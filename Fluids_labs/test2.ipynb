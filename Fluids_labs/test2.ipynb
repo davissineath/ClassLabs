{
 "cells": [
  {
   "cell_type": "code",
   "execution_count": 1,
   "metadata": {},
   "outputs": [],
   "source": [
    "import numpy as np"
   ]
  },
  {
   "cell_type": "code",
   "execution_count": 59,
   "metadata": {},
   "outputs": [
    {
     "name": "stdout",
     "output_type": "stream",
     "text": [
      "P1 222915.00000000003\n",
      "P2 182385.0\n",
      "v0 1.2432253212604871\n",
      "ro is 1.7915278020677132\n"
     ]
    }
   ],
   "source": [
    "mu = 2.2 * (10**-5)\n",
    "mw = 0.02897\n",
    "P1 = 2.2 * 101325\n",
    "dp = 0.0127\n",
    "eps = 0.4\n",
    "L = 3.66\n",
    "#v0 = 1.5\n",
    "v0 = 2.45 / (P1 * mw / (8.314 * 394.15))\n",
    "\n",
    "P2 = 1.8 * 101325\n",
    "\n",
    "Pav = (P1+P2)/2\n",
    "ro = (Pav * mw)/ (8.314 * 394.15)\n",
    "Pdrop = P1 - P2\n",
    "print(f'P1 {P1}')\n",
    "print(f'P2 {P2}')\n",
    "print(f'v0 {v0}')\n",
    "print(f'ro is {ro}')"
   ]
  },
  {
   "cell_type": "code",
   "execution_count": 60,
   "metadata": {},
   "outputs": [
    {
     "name": "stdout",
     "output_type": "stream",
     "text": [
      "Guess 40530.00000000003\n",
      "Calculated 39066.2874828049\n"
     ]
    }
   ],
   "source": [
    "deltaP = ((150 * mu * v0 * L)/(dp**2)) * (((1-eps)**2) / (eps**3)) + ((1.75 * ro * v0 * L**2)/ dp) * ((1-eps)/(eps**3))\n",
    "print(f'Guess {Pdrop}')\n",
    "print(f'Calculated {deltaP}')\n"
   ]
  },
  {
   "cell_type": "code",
   "execution_count": null,
   "metadata": {},
   "outputs": [],
   "source": []
  }
 ],
 "metadata": {
  "kernelspec": {
   "display_name": "math4610",
   "language": "python",
   "name": "python3"
  },
  "language_info": {
   "codemirror_mode": {
    "name": "ipython",
    "version": 3
   },
   "file_extension": ".py",
   "mimetype": "text/x-python",
   "name": "python",
   "nbconvert_exporter": "python",
   "pygments_lexer": "ipython3",
   "version": "3.12.7"
  }
 },
 "nbformat": 4,
 "nbformat_minor": 2
}
